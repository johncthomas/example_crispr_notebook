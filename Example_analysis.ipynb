{
 "cells": [
  {
   "cell_type": "markdown",
   "metadata": {},
   "source": [
    "# Analysis name\n",
    "**details details details**\n",
    "\n",
    "**Instructions on how to set up the environment**"
   ]
  },
  {
   "cell_type": "code",
   "execution_count": 1,
   "metadata": {},
   "outputs": [],
   "source": [
    "import pandas as pd \n",
    "import numpy as np\n",
    "import matplotlib.pyplot as plt\n",
    "import matplotlib\n",
    "import jacks\n",
    "import jacks_tools\n",
    "import os\n",
    "import sys\n",
    "from crispr_scripts import count_reads"
   ]
  },
  {
   "cell_type": "code",
   "execution_count": 2,
   "metadata": {},
   "outputs": [
    {
     "name": "stdout",
     "output_type": "stream",
     "text": [
      "3.6.5 |Anaconda, Inc.| (default, Mar 29 2018, 13:14:23) \n",
      "[GCC 4.2.1 Compatible Clang 4.0.1 (tags/RELEASE_401/final)]\n",
      "pandas\t0.23.0\n",
      "numpy\t1.15.1\n",
      "matplotlib\t2.2.2\n",
      "crispr_scripts.count_reads\t1.2.1\n"
     ]
    }
   ],
   "source": [
    "print(sys.version)\n",
    "for pkg in pd, np, matplotlib, count_reads:\n",
    "    print(pkg.__name__, pkg.__version__, sep='\\t')\n",
    "    "
   ]
  },
  {
   "cell_type": "code",
   "execution_count": 8,
   "metadata": {},
   "outputs": [
    {
     "name": "stdout",
     "output_type": "stream",
     "text": [
      "md5: counts: Is a directory\n",
      "MD5 (tst1_L001_R1_.fastq) = 38b24fca10401cd5ac06f503776ee8d1\n",
      "MD5 (tst1_L002_R1_.fastq) = ee76b235c55b44df5a62d436d14c01af\n",
      "MD5 (tst2_L001_R1_.fastq) = 7b1b13b88e075a75f12562b43fdaa7dd\n",
      "mkdir: counts: File exists\n"
     ]
    }
   ],
   "source": [
    "# navigate to working directory\n",
    "os.chdir('/Users/johnc.thomas/tmp/tst/')\n",
    "\n",
    "# commands preceeded by `!` are passed to bash\n",
    "# get checksums for all sequence files\n",
    "!md5 *\n",
    "!mkdir counts"
   ]
  },
  {
   "cell_type": "code",
   "execution_count": 9,
   "metadata": {},
   "outputs": [
    {
     "name": "stdout",
     "output_type": "stream",
     "text": [
      "@L180:623:HFJ73BCX2:1:1101:1169:2071 1:N:0:CGGAGCCT\n",
      "NGCACGACGAGCCATGCTACG\n",
      "+\n",
      "#<GGGIIIIIIIIIIIIIIII\n",
      "@L180:623:HFJ73BCX2:1:1101:1193:2131 1:N:0:CGGAGCCT\n",
      "GTGCTCACGTGCCACACGTGG\n",
      "+\n",
      "GGGGGIIIIIIIIIIIIIIII\n",
      "@L180:623:HFJ73BCX2:1:1101:1249:2145 1:N:0:CGGAGCCT\n",
      "GGCCGCCTGGACTACTGCGGG\n"
     ]
    }
   ],
   "source": [
    "# Look at some sequences to check the read length and for anything weird\n",
    "!head tst1_L001_R1_.fastq"
   ]
  },
  {
   "cell_type": "code",
   "execution_count": 10,
   "metadata": {},
   "outputs": [
    {
     "name": "stdout",
     "output_type": "stream",
     "text": [
      "Write a table giving the frequency of all unique sequences from a fastq\n",
      "    files (or fastq.gz).\n",
      "\n",
      "    Output filenames are derived from input filenames.\n",
      "\n",
      "    Merge_samples looks for file names containing \"_L001_\" and assumes all\n",
      "    files with the same prefix are the same sample.\n",
      "\n",
      "    Arguments:\n",
      "        files       A list of files or dir. All files in given dir that end\n",
      "                       with .fastq or .fastq.gz or .fq will be counted.\n",
      "\n",
      "        slicer (M,N)  Slice indicies to truncate sequences (zero indexed,\n",
      "                        end exclusive). Comma-sep ints. Required.\n",
      "\n",
      "        fn_prefix   Prefix added to output files, can include absolute or\n",
      "                       relative paths.\n",
      "\n",
      "        fn_suffix   Suffix added to output files, .txt added after. Default\n",
      "                       `rawcount`\n",
      "\n",
      "        fn_split    String used to split filenames and form output file prefix.\n",
      "                       Default `_R1_`. Doesn't do anything if --merge-samples is\n",
      "                       used.\n",
      "\n",
      "        merge_samples  Merge counts from files with identical sample names. Be\n",
      "                       careful not to double count decompressed & compressed\n",
      "                       files. Bool.\n",
      "\n",
      "        allowed_extensions  ('fastq', 'fastq.gz', '.fq')\n",
      "    \n"
     ]
    }
   ],
   "source": [
    "print(count_reads.run.__doc__)"
   ]
  },
  {
   "cell_type": "code",
   "execution_count": 5,
   "metadata": {},
   "outputs": [
    {
     "name": "stdout",
     "output_type": "stream",
     "text": [
      "input files\n",
      "tst1_L001_R1_.fastq\n",
      "tst1_L002_R1_.fastq\n",
      "tst2_L001_R1_.fastq\n",
      "Length=19 \n",
      "\n",
      "Samples found: {'tst2', 'tst1'}\n",
      "4 sequences counted.\n",
      "4 sequences counted.\n",
      "4 sequences counted.\n"
     ]
    }
   ],
   "source": [
    "fq = !ls *.fastq\n",
    "count_reads.run(fq, (1,20), './counts/', merge_samples=True)\n"
   ]
  },
  {
   "cell_type": "code",
   "execution_count": 7,
   "metadata": {},
   "outputs": [
    {
     "name": "stdout",
     "output_type": "stream",
     "text": [
      "tst1.rawcount.txt tst2.rawcount.txt\n"
     ]
    }
   ],
   "source": [
    "!ls counts"
   ]
  },
  {
   "cell_type": "code",
   "execution_count": 13,
   "metadata": {},
   "outputs": [
    {
     "data": {
      "text/html": [
       "<div>\n",
       "<style scoped>\n",
       "    .dataframe tbody tr th:only-of-type {\n",
       "        vertical-align: middle;\n",
       "    }\n",
       "\n",
       "    .dataframe tbody tr th {\n",
       "        vertical-align: top;\n",
       "    }\n",
       "\n",
       "    .dataframe thead th {\n",
       "        text-align: right;\n",
       "    }\n",
       "</style>\n",
       "<table border=\"1\" class=\"dataframe\">\n",
       "  <thead>\n",
       "    <tr style=\"text-align: right;\">\n",
       "      <th></th>\n",
       "      <th>1</th>\n",
       "    </tr>\n",
       "    <tr>\n",
       "      <th>0</th>\n",
       "      <th></th>\n",
       "    </tr>\n",
       "  </thead>\n",
       "  <tbody>\n",
       "    <tr>\n",
       "      <th>GTGCGCTACTTCGAGTGCC</th>\n",
       "      <td>1</td>\n",
       "    </tr>\n",
       "    <tr>\n",
       "      <th>ATAAACCATCTCCACCAAA</th>\n",
       "      <td>1</td>\n",
       "    </tr>\n",
       "    <tr>\n",
       "      <th>TTGTGCCTTCCGCCACCGA</th>\n",
       "      <td>1</td>\n",
       "    </tr>\n",
       "    <tr>\n",
       "      <th>CTGTTTTGAAGTCGCATCG</th>\n",
       "      <td>1</td>\n",
       "    </tr>\n",
       "  </tbody>\n",
       "</table>\n",
       "</div>"
      ],
      "text/plain": [
       "                     1\n",
       "0                     \n",
       "GTGCGCTACTTCGAGTGCC  1\n",
       "ATAAACCATCTCCACCAAA  1\n",
       "TTGTGCCTTCCGCCACCGA  1\n",
       "CTGTTTTGAAGTCGCATCG  1"
      ]
     },
     "execution_count": 13,
     "metadata": {},
     "output_type": "execute_result"
    }
   ],
   "source": [
    "counts = {}\n",
    "for fn in os.listdir('counts'):\n",
    "    k = fn.split('.')[0]\n",
    "    counts[k] = pd.read_table(f'counts/{fn}', header=None, index_col=0)\n",
    "counts[k].head()"
   ]
  },
  {
   "cell_type": "code",
   "execution_count": 17,
   "metadata": {},
   "outputs": [
    {
     "data": {
      "text/plain": [
       "array([[<matplotlib.axes._subplots.AxesSubplot object at 0x1170f5cf8>]],\n",
       "      dtype=object)"
      ]
     },
     "execution_count": 17,
     "metadata": {},
     "output_type": "execute_result"
    },
    {
     "data": {
      "image/png": "[encoded data removed]",
      "text/plain": [
       "<Figure size 432x288 with 1 Axes>"
      ]
     },
     "metadata": {},
     "output_type": "display_data"
    }
   ],
   "source": [
    "counts['tst1'].hist()"
   ]
  }
 ],
 "metadata": {
  "kernelspec": {
   "display_name": "Python 3",
   "language": "python",
   "name": "python3"
  },
  "language_info": {
   "codemirror_mode": {
    "name": "ipython",
    "version": 3
   },
   "file_extension": ".py",
   "mimetype": "text/x-python",
   "name": "python",
   "nbconvert_exporter": "python",
   "pygments_lexer": "ipython3",
   "version": "3.6.5"
  }
 },
 "nbformat": 4,
 "nbformat_minor": 2
}
